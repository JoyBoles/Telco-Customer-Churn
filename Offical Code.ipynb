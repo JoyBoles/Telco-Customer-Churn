{
    "metadata": {
        "kernelspec": {
            "name": "SQL",
            "display_name": "SQL",
            "language": "sql"
        },
        "language_info": {
            "name": "sql",
            "version": ""
        }
    },
    "nbformat_minor": 2,
    "nbformat": 4,
    "cells": [
        {
            "cell_type": "markdown",
            "source": [
                ""
            ],
            "metadata": {
                "azdata_cell_guid": "57da53fd-2ca1-4538-a423-4f8f749c2367"
            }
        },
        {
            "cell_type": "code",
            "source": [
                ""
            ],
            "metadata": {
                "azdata_cell_guid": "5c255db4-2e04-48b2-a7ba-f71b6985e642",
                "language": "sql"
            },
            "outputs": [],
            "execution_count": null
        },
        {
            "cell_type": "code",
            "source": [
                ""
            ],
            "metadata": {
                "language": "sql",
                "azdata_cell_guid": "64c67236-0c5c-4917-abdb-51dd0a330138"
            },
            "outputs": [],
            "execution_count": null
        },
        {
            "cell_type": "code",
            "source": [
                ""
            ],
            "metadata": {
                "language": "sql",
                "azdata_cell_guid": "0f05f73f-b6a3-4ac6-8b4e-151543860880"
            },
            "outputs": [],
            "execution_count": null
        },
        {
            "cell_type": "markdown",
            "source": [
                "### **Q3) Which Gender has more consumption?**"
            ],
            "metadata": {
                "language": "sql",
                "azdata_cell_guid": "8e76a142-5ab9-4b32-8d0e-c0e32852c140"
            },
            "attachments": {}
        },
        {
            "cell_type": "code",
            "source": [
                "SELECT gender as Gender, \r\n",
                "      FORMAT(AVG(Avg_Monthly_GB_Download), 'N2') [Average Monthly GB Download for all Gender] \r\n",
                "FROM \r\n",
                "    Demographics d, \r\n",
                "    Service s\r\n",
                "WHERE \r\n",
                "    d.CustomerID = s.CustomerID\r\n",
                "GROUP BY \r\n",
                "    Gender"
            ],
            "metadata": {
                "language": "sql",
                "azdata_cell_guid": "976bc0cb-c68e-4a67-8146-8b3557fb220f"
            },
            "outputs": [
                {
                    "output_type": "display_data",
                    "data": {
                        "text/html": "(2 rows affected)"
                    },
                    "metadata": {}
                },
                {
                    "output_type": "display_data",
                    "data": {
                        "text/html": "Total execution time: 00:00:00.013"
                    },
                    "metadata": {}
                },
                {
                    "output_type": "execute_result",
                    "execution_count": 13,
                    "data": {
                        "application/vnd.dataresource+json": {
                            "schema": {
                                "fields": [
                                    {
                                        "name": "Gender"
                                    },
                                    {
                                        "name": "Average Monthly GB Download for all Gender"
                                    }
                                ]
                            },
                            "data": [
                                {
                                    "Gender": "Female",
                                    "Average Monthly GB Download for all Gender": "165.00"
                                },
                                {
                                    "Gender": "Male",
                                    "Average Monthly GB Download for all Gender": "131.43"
                                }
                            ]
                        },
                        "text/html": "<table><tr><th>Gender</th><th>Average Monthly GB Download for all Gender</th></tr><tr><td>Female</td><td>165.00</td></tr><tr><td>Male</td><td>131.43</td></tr></table>"
                    },
                    "metadata": {}
                }
            ],
            "execution_count": 13
        },
        {
            "cell_type": "markdown",
            "source": [
                "**<u>Observation</u>**<span style=\"white-space-collapse: preserve; color: rgb(255, 255, 255); font-family: Arial, sans-serif; font-size: 14.6667px;\">:</span>\n",
                "**Female** is higher with average in Monthly GB Dawnload  than Males."
            ],
            "metadata": {
                "language": "sql",
                "azdata_cell_guid": "49497f8a-4886-4f50-acf5-6feddfd01b8d"
            }
        },
        {
            "cell_type": "markdown",
            "source": [
                "### **Q4) Which city has higher tenure and consumption?**\n",
                "\n",
                "<span style=\"font-size:10.0pt;font-family:Consolas;mso-fareast-font-family:&quot;Times New Roman&quot;;\n",
                "mso-bidi-font-family:&quot;Times New Roman&quot;;color:white;mso-themecolor:background1;\n",
                "mso-font-kerning:0pt;mso-ligatures:none\"><br></span>"
            ],
            "metadata": {
                "azdata_cell_guid": "e63078d3-4d4e-4f7a-a858-a54f72e99052"
            },
            "attachments": {}
        },
        {
            "cell_type": "code",
            "source": [
                "CREATE OR ALTER VIEW city_tenure_consumption(city, state, country, average_tenure, average_consumption)\r\n",
                "AS\r\n",
                "\tSELECT l.city, l.state, l.country, \r\n",
                "           AVG(s.Tenure_in_Months) AS 'Average Tenure in Month', \r\n",
                "           AVG(s.Avg_Monthly_GB_Download) AS 'Average OF Consumption' \r\n",
                "\tFROM \r\n",
                "        Location l, Demographics d, Service s\r\n",
                "\tWHERE \r\n",
                "        l.Zip_Code = d.Zip_Code AND d.CustomerID = s.CustomerID\r\n",
                "\tGROUP BY \r\n",
                "        l.city, l.state, l.country\r\n",
                "\r\n",
                "GO\r\n",
                "SELECT \r\n",
                "    TOP(5) city as City, \r\n",
                "    average_tenure [Average Tenure], \r\n",
                "    FORMAT(average_consumption, 'N2') [Average Consumption]\r\n",
                "FROM\r\n",
                "    city_tenure_consumption\r\n",
                "ORDER BY \r\n",
                "    average_tenure DESC, \r\n",
                "    average_consumption DESC"
            ],
            "metadata": {
                "azdata_cell_guid": "8f8967e5-90b3-4346-bfae-a6fc33670d8c",
                "language": "sql",
                "tags": []
            },
            "outputs": [
                {
                    "output_type": "display_data",
                    "data": {
                        "text/html": "Commands completed successfully."
                    },
                    "metadata": {}
                },
                {
                    "output_type": "display_data",
                    "data": {
                        "text/html": "(5 rows affected)"
                    },
                    "metadata": {}
                },
                {
                    "output_type": "display_data",
                    "data": {
                        "text/html": "Total execution time: 00:00:00.027"
                    },
                    "metadata": {}
                },
                {
                    "output_type": "execute_result",
                    "execution_count": 9,
                    "data": {
                        "application/vnd.dataresource+json": {
                            "schema": {
                                "fields": [
                                    {
                                        "name": "City"
                                    },
                                    {
                                        "name": "Average Tenure"
                                    },
                                    {
                                        "name": "Average Consumption"
                                    }
                                ]
                            },
                            "data": [
                                {
                                    "City": "Paris",
                                    "Average Tenure": "21",
                                    "Average Consumption": "177.50"
                                },
                                {
                                    "City": "Munich",
                                    "Average Tenure": "19",
                                    "Average Consumption": "170.00"
                                },
                                {
                                    "City": "Sydney",
                                    "Average Tenure": "18",
                                    "Average Consumption": "166.67"
                                },
                                {
                                    "City": "Tokyo",
                                    "Average Tenure": "18",
                                    "Average Consumption": "150.00"
                                },
                                {
                                    "City": "Los Angeles",
                                    "Average Tenure": "17",
                                    "Average Consumption": "143.75"
                                }
                            ]
                        },
                        "text/html": "<table><tr><th>City</th><th>Average Tenure</th><th>Average Consumption</th></tr><tr><td>Paris</td><td>21</td><td>177.50</td></tr><tr><td>Munich</td><td>19</td><td>170.00</td></tr><tr><td>Sydney</td><td>18</td><td>166.67</td></tr><tr><td>Tokyo</td><td>18</td><td>150.00</td></tr><tr><td>Los Angeles</td><td>17</td><td>143.75</td></tr></table>"
                    },
                    "metadata": {}
                }
            ],
            "execution_count": 9
        },
        {
            "cell_type": "markdown",
            "source": [
                "**<u>Observation</u>**<span style=\"white-space-collapse: preserve; color: rgb(255, 255, 255); font-family: Arial, sans-serif; font-size: 14.6667px;\">:</span>  \n",
                "\n",
                " From the 5 exists Cities, Paris is the hifhest city with the average of Tenure and Consumption."
            ],
            "metadata": {
                "azdata_cell_guid": "46e8f565-8624-41f1-9f22-cbdab420d69c"
            },
            "attachments": {}
        },
        {
            "cell_type": "markdown",
            "source": [
                "### **Q5: Does Customer with High SatisfactionScore have high consumption?**\n",
                "\n",
                "<span style=\"color: var(--vscode-foreground);\"><br></span>"
            ],
            "metadata": {
                "azdata_cell_guid": "f5dab52f-2d04-40c0-ac0d-8c19e5dbd4cb"
            },
            "attachments": {}
        },
        {
            "cell_type": "code",
            "source": [
                "WITH RankedData AS (\r\n",
                "    SELECT \r\n",
                "        st.Satisfaction_Score,\r\n",
                "        demo.CustomerID, \r\n",
                "        DENSE_RANK() OVER (ORDER BY ser.Avg_Monthly_GB_Download DESC) AS Gigabyte_Downloads_Dense_Rank,\r\n",
                "        ser.Avg_Monthly_GB_Download\r\n",
                "    FROM \r\n",
                "        Status st\r\n",
                "    JOIN \r\n",
                "        Demographics demo ON demo.CustomerID = st.CustomerID\r\n",
                "    JOIN \r\n",
                "        Service ser \r\n",
                "    ON \r\n",
                "        demo.CustomerID = ser.CustomerID\r\n",
                ")\r\n",
                "SELECT avg(RD.Satisfaction_Score) AS[Average of Satisfaction Score of highest Customers in Gigabyte Downloads]\r\n",
                "from RankedData RD\r\n",
                "WHERE \r\n",
                "    Gigabyte_Downloads_Dense_Rank = 1"
            ],
            "metadata": {
                "azdata_cell_guid": "635a206d-d4b2-4bc7-bdf8-e910ab8ecf7e",
                "language": "sql"
            },
            "outputs": [
                {
                    "output_type": "display_data",
                    "data": {
                        "text/html": "(1 row affected)"
                    },
                    "metadata": {}
                },
                {
                    "output_type": "display_data",
                    "data": {
                        "text/html": "Total execution time: 00:00:00.015"
                    },
                    "metadata": {}
                },
                {
                    "output_type": "execute_result",
                    "execution_count": 12,
                    "data": {
                        "application/vnd.dataresource+json": {
                            "schema": {
                                "fields": [
                                    {
                                        "name": "Average of Satisfaction Score of highest Customers in Gigabyte Downloads"
                                    }
                                ]
                            },
                            "data": [
                                {
                                    "Average of Satisfaction Score of highest Customers in Gigabyte Downloads": "4"
                                }
                            ]
                        },
                        "text/html": "<table><tr><th>Average of Satisfaction Score of highest Customers in Gigabyte Downloads</th></tr><tr><td>4</td></tr></table>"
                    },
                    "metadata": {}
                }
            ],
            "execution_count": 12
        },
        {
            "cell_type": "markdown",
            "source": [
                "<span style=\"font-size: 11pt; font-family: Arial, sans-serif; color: rgb(255, 255, 255); background-color: transparent; font-style: normal; font-variant: normal; vertical-align: baseline; white-space: pre-wrap;\"><span style=\"font-size: 11pt; background-color: transparent; font-variant-numeric: normal; font-variant-east-asian: normal; font-variant-alternates: normal; vertical-align: baseline;\"><strong style=\"text-decoration-line: none; font-weight: 400;\"></strong><b style=\"\"><u>Observation</u></b><strong style=\"text-decoration-line: none; font-weight: 400;\">:</strong></span></span>\n",
                "\n",
                "<span style=\"font-size:11pt;font-family:Arial,sans-serif;color:#ffffff;background-color:transparent;font-weight:400;font-style:normal;font-variant:normal;text-decoration:none;vertical-align:baseline;white-space:pre;white-space:pre-wrap;\"><span id=\"docs-internal-guid-46df8599-7fff-83df-2655-824334e1c473\"><span style=\"font-size: 11pt; background-color: transparent; font-variant-numeric: normal; font-variant-east-asian: normal; font-variant-alternates: normal; vertical-align: baseline;\">There are 5 customers with the highest Gigabyte_Downloads is 200,</span></span><br></span>\n",
                "\n",
                "<span style=\"font-size:11pt;font-family:Arial,sans-serif;color:#ffffff;background-color:transparent;font-weight:400;font-style:normal;font-variant:normal;text-decoration:none;vertical-align:baseline;white-space:pre;white-space:pre-wrap;\">The customers with the highest number of Gigabyte Downloads have an average of 4 in Satisfaction Score.&nbsp;</span>     \n",
                "\n",
                "<span style=\"font-size: 11pt; font-family: Arial, sans-serif; color: rgb(255, 255, 255); background-color: transparent; font-variant-numeric: normal; font-variant-east-asian: normal; font-variant-alternates: normal; vertical-align: baseline; white-space-collapse: preserve;\">As the score is from 1 to 5, then this score is a</span> <span style=\"font-size: 11pt; font-family: Arial, sans-serif; color: rgb(255, 255, 255); background-color: transparent; font-weight: 700; font-variant-numeric: normal; font-variant-east-asian: normal; font-variant-alternates: normal; vertical-align: baseline; white-space-collapse: preserve;\">High score.</span>"
            ],
            "metadata": {
                "language": "sql",
                "azdata_cell_guid": "8e9f0367-4a9a-4f86-b585-97328e08a443"
            },
            "attachments": {}
        },
        {
            "cell_type": "code",
            "source": [
                "CREATE OR ALTER PROCEDURE Average_OF_Column_And_GroupBy \r\n",
                "    @FirstCol NVARCHAR(20), \r\n",
                "    @AvgColumn NVARCHAR(20), \r\n",
                "    @GroupByColumn NVARCHAR(20)\r\n",
                "AS\r\n",
                "BEGIN\r\n",
                "    DECLARE @SqlQuery NVARCHAR(MAX);\r\n",
                "\r\n",
                "    SET @SqlQuery = \r\n",
                "        'SELECT ' + QUOTENAME(@FirstCol) + ' AS ' + QUOTENAME(@FirstCol) + ',' +\r\n",
                "        'FORMAT(AVG(' + QUOTENAME(@AvgColumn) + '), ''N2'') AS [Average of ' + @AvgColumn + ']' +\r\n",
                "        ' FROM Service' +\r\n",
                "        ' GROUP BY ' + QUOTENAME(@GroupByColumn) +\r\n",
                "        ' ORDER BY 2;';\r\n",
                "\r\n",
                "    EXEC sp_executesql @SqlQuery;\r\n",
                "END;"
            ],
            "metadata": {
                "language": "sql",
                "azdata_cell_guid": "a2829992-9682-4a86-b13c-68ba0f7af66f"
            },
            "outputs": [
                {
                    "output_type": "display_data",
                    "data": {
                        "text/html": "Commands completed successfully."
                    },
                    "metadata": {}
                },
                {
                    "output_type": "display_data",
                    "data": {
                        "text/html": "Total execution time: 00:00:00.006"
                    },
                    "metadata": {}
                }
            ],
            "execution_count": 1
        },
        {
            "cell_type": "markdown",
            "source": [
                "### **6) What is the average tenure of customers based on their contract type?**"
            ],
            "metadata": {
                "language": "sql",
                "azdata_cell_guid": "32bd916a-9076-46c2-b9e2-d70ce927b48f"
            },
            "attachments": {}
        },
        {
            "cell_type": "code",
            "source": [
                "--Call the proc named Average_OF_Column_And_GroupBy\r\n",
                "Average_OF_Column_And_GroupBy Contract, Tenure_in_Months, Contract"
            ],
            "metadata": {
                "language": "sql",
                "azdata_cell_guid": "e2d2c5b2-efdc-44a6-8e14-eb334d307ab2"
            },
            "outputs": [
                {
                    "output_type": "display_data",
                    "data": {
                        "text/html": "(3 rows affected)"
                    },
                    "metadata": {}
                },
                {
                    "output_type": "display_data",
                    "data": {
                        "text/html": "Total execution time: 00:00:00.016"
                    },
                    "metadata": {}
                },
                {
                    "output_type": "execute_result",
                    "metadata": {},
                    "execution_count": 4,
                    "data": {
                        "application/vnd.dataresource+json": {
                            "schema": {
                                "fields": [
                                    {
                                        "name": "Contract"
                                    },
                                    {
                                        "name": "Average of Tenure_in_Months"
                                    }
                                ]
                            },
                            "data": [
                                {
                                    "Contract": "Month-to-Month",
                                    "Average of Tenure_in_Months": "15.00"
                                },
                                {
                                    "Contract": "One_Year",
                                    "Average of Tenure_in_Months": "17.00"
                                },
                                {
                                    "Contract": "Two_Year",
                                    "Average of Tenure_in_Months": "21.00"
                                }
                            ]
                        },
                        "text/html": [
                            "<table>",
                            "<tr><th>Contract</th><th>Average of Tenure_in_Months</th></tr>",
                            "<tr><td>Month-to-Month</td><td>15.00</td></tr>",
                            "<tr><td>One_Year</td><td>17.00</td></tr>",
                            "<tr><td>Two_Year</td><td>21.00</td></tr>",
                            "</table>"
                        ]
                    }
                }
            ],
            "execution_count": 4
        },
        {
            "cell_type": "markdown",
            "source": [
                "**<u>Observation</u>**<span style=\"color: rgb(255, 255, 255); font-family: Arial, sans-serif; font-size: 14.6667px; white-space-collapse: preserve;\">:</span>\n",
                "\n",
                "<span style=\"font-size: 14.6667px; white-space-collapse: preserve;\">The max average of time that users use the service is Two years contract.</span>\n",
                "\n",
                "<span style=\"font-size: 14.6667px; white-space-collapse: preserve;\">The min </span> <span style=\"color: rgb(255, 255, 255); font-family: Arial, sans-serif; font-size: 14.6667px; white-space-collapse: preserve;\">average of time that users use the service is month to month contract.</span>"
            ],
            "metadata": {
                "language": "sql",
                "azdata_cell_guid": "7d260d78-88e8-4d5a-afc7-65c7c6b4d0fb"
            },
            "attachments": {}
        },
        {
            "cell_type": "markdown",
            "source": [
                "### **Q7) How does the average monthly charge vary among different payment methods?**"
            ],
            "metadata": {
                "language": "sql",
                "azdata_cell_guid": "64c90d7d-48cf-4666-8f4b-e2a6d0a7ceec"
            },
            "attachments": {}
        },
        {
            "cell_type": "code",
            "source": [
                "--Call the proc named Average_OF_Column_And_GroupBy\r\n",
                "Average_OF_Column_And_GroupBy Payment_Method, Monthly_Charge, Payment_Method"
            ],
            "metadata": {
                "language": "sql",
                "azdata_cell_guid": "2a61be9a-e5a5-43d9-9f4a-98dc14d235d6"
            },
            "outputs": [
                {
                    "output_type": "display_data",
                    "data": {
                        "text/html": "(3 rows affected)"
                    },
                    "metadata": {}
                },
                {
                    "output_type": "display_data",
                    "data": {
                        "text/html": "Total execution time: 00:00:00.007"
                    },
                    "metadata": {}
                },
                {
                    "output_type": "execute_result",
                    "metadata": {},
                    "execution_count": 5,
                    "data": {
                        "application/vnd.dataresource+json": {
                            "schema": {
                                "fields": [
                                    {
                                        "name": "Payment_Method"
                                    },
                                    {
                                        "name": "Average of Monthly_Charge"
                                    }
                                ]
                            },
                            "data": [
                                {
                                    "Payment_Method": "Credit_Card",
                                    "Average of Monthly_Charge": "55.00"
                                },
                                {
                                    "Payment_Method": "Mailed_Check",
                                    "Average of Monthly_Charge": "77.08"
                                },
                                {
                                    "Payment_Method": "Bank_Withdrawal",
                                    "Average of Monthly_Charge": "81.11"
                                }
                            ]
                        },
                        "text/html": [
                            "<table>",
                            "<tr><th>Payment_Method</th><th>Average of Monthly_Charge</th></tr>",
                            "<tr><td>Credit_Card</td><td>55.00</td></tr>",
                            "<tr><td>Mailed_Check</td><td>77.08</td></tr>",
                            "<tr><td>Bank_Withdrawal</td><td>81.11</td></tr>",
                            "</table>"
                        ]
                    }
                }
            ],
            "execution_count": 5
        },
        {
            "cell_type": "markdown",
            "source": [
                "**<u>Observation</u>**<span style=\"color: rgb(255, 255, 255); font-family: Arial, sans-serif; font-size: 14.6667px; white-space-collapse: preserve;\">:</span>\n",
                "\n",
                "<span style=\"color: rgb(255, 255, 255); font-family: Arial, sans-serif; font-size: 14.6667px; white-space-collapse: preserve;\">From the exists data about 30 customers,</span>\n",
                "\n",
                "<span style=\"color: rgb(255, 255, 255); font-family: Arial, sans-serif; font-size: 14.6667px; white-space-collapse: preserve;\">Payment by <b>bank with drawal</b> has the max average in each month, </span> <span style=\"color: rgb(255, 255, 255); font-family: Arial, sans-serif; font-size: 14.6667px; white-space-collapse: preserve;\">the<b> credit card </b>has the min, and <b>mailes check</b> is moderate.</span>"
            ],
            "metadata": {
                "azdata_cell_guid": "2ee40206-47d4-4b6b-aef7-7884c19f165e"
            },
            "attachments": {}
        },
        {
            "cell_type": "markdown",
            "source": [
                "### **Q8) Which quarter experienced the highest rate for churned customers?**"
            ],
            "metadata": {
                "azdata_cell_guid": "5fbb87bb-15dc-4af6-8925-8b09d495aa35"
            },
            "attachments": {}
        },
        {
            "cell_type": "code",
            "source": [
                "SELECT \r\n",
                "     serv.Quar AS Quarter, \r\n",
                "    AVG(st.Satisfaction_Score) as 'Average of Satisfaction Score for Churned Customers'\r\n",
                "FROM\r\n",
                "    Status st\r\n",
                "JOIN \r\n",
                "    Service serv\r\n",
                "ON \r\n",
                "    st.CustomerID = serv.CustomerID \r\n",
                "WHERE \r\n",
                "    st.Customer_Status = 'Churned' \r\n",
                "GROUP BY \r\n",
                "    serv.Quar\r\n",
                "ORDER BY \r\n",
                "    2 DESC"
            ],
            "metadata": {
                "azdata_cell_guid": "d7090ecc-2fc0-48f7-9f74-373b23f43aba",
                "language": "sql"
            },
            "outputs": [
{
    "output_type": "display_data",
    "data": {
        "text/html": "(4 rows affected)"
    },
    "metadata": {}
}, {
    "output_type": "display_data",
    "data": {
        "text/html": "Total execution time: 00:00:00.018"
    },
    "metadata": {}
}, {
    "output_type": "execute_result",
    "metadata": {},
    "execution_count": 6,
    "data": {
        "application/vnd.dataresource+json": {
            "schema": {
                "fields": [
                    {
                        "name": "Quarter"
                    },
                    {
                        "name": "Average of Satisfaction Score for Churned Customers"
                    }
                ]
            },
            "data": [
                {
                    "Quarter": "1",
                    "Average of Satisfaction Score for Churned Customers": "3"
                },
                {
                    "Quarter": "2",
                    "Average of Satisfaction Score for Churned Customers": "2"
                },
                {
                    "Quarter": "4",
                    "Average of Satisfaction Score for Churned Customers": "2"
                },
                {
                    "Quarter": "3",
                    "Average of Satisfaction Score for Churned Customers": "1"
                }
            ]
        },
        "text/html": [
            "<table>",
            "<tr><th>Quarter</th><th>Average of Satisfaction Score for Churned Customers</th></tr>",
            "<tr><td>1</td><td>3</td></tr>",
            "<tr><td>2</td><td>2</td></tr>",
            "<tr><td>4</td><td>2</td></tr>",
            "<tr><td>3</td><td>1</td></tr>",
            "</table>"
        ]
    }
}
],
            "execution_count": 6
        },
        {
            "cell_type": "markdown",
            "source": [
                "**<u>Observation</u>**<span style=\"white-space-collapse: preserve; color: rgb(255, 255, 255); font-family: Arial, sans-serif; font-size: 14.6667px;\">:</span>\n",
                "\n",
                "<span style=\"white-space-collapse: preserve; color: rgb(255, 255, 255); font-family: Arial, sans-serif; font-size: 14.6667px;\">Quarter 1 has the max average for the four quarter that the churned customers rate their </span> <span style=\"color: rgb(255, 255, 255); font-family: Consolas, &quot;Courier New&quot;, monospace; font-size: 13px; white-space: pre;\">Satisfaction about the service.</span>"
            ],
            "metadata": {
                "language": "sql",
                "azdata_cell_guid": "649ccda6-a804-4b13-8b65-d4be91bce942"
            },
            "attachments": {}
        }
    ]
}